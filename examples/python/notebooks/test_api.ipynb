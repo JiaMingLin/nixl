{
 "cells": [
  {
   "cell_type": "code",
   "execution_count": 2,
   "id": "e3a41834",
   "metadata": {},
   "outputs": [],
   "source": [
    "import os\n",
    "\n",
    "import numpy as np\n",
    "import torch\n",
    "\n",
    "import nixl._utils as nixl_utils\n",
    "from nixl._api import nixl_agent, nixl_agent_config"
   ]
  },
  {
   "cell_type": "code",
   "execution_count": 3,
   "id": "191c847c",
   "metadata": {},
   "outputs": [
    {
     "name": "stdout",
     "output_type": "stream",
     "text": [
      "Using NIXL Plugins from:\n",
      "/home/jiaming/miniconda3/envs/nixl/lib/python3.12/site-packages/.nixl.mesonpy.libs/plugins/\n",
      "Backend UCX was instantiated\n",
      "Initialized NIXL agent: target\n"
     ]
    }
   ],
   "source": [
    "buf_size = 256000\n",
    "# Allocate memory and register with NIXL\n",
    "\n",
    "print(\"Using NIXL Plugins from:\")\n",
    "print(os.environ[\"NIXL_PLUGIN_DIR\"])\n",
    "\n",
    "# Example using nixl_agent_config\n",
    "agent_config = nixl_agent_config(backends=[\"UCX\"])\n",
    "nixl_agent1 = nixl_agent(\"target\", agent_config)\n",
    "plugin_list = nixl_agent1.get_plugin_list()\n",
    "assert \"UCX\" in plugin_list"
   ]
  },
  {
   "cell_type": "code",
   "execution_count": 4,
   "id": "4c2a3f5f",
   "metadata": {},
   "outputs": [
    {
     "name": "stdout",
     "output_type": "stream",
     "text": [
      "Plugin parameters\n",
      "['DRAM_SEG', 'VRAM_SEG']\n",
      "{'ucx_error_handling_mode': 'peer', 'num_workers': '1', 'ucx_devices': ''}\n"
     ]
    }
   ],
   "source": [
    "print(\"Plugin parameters\")\n",
    "print(nixl_agent1.get_plugin_mem_types(\"UCX\"))\n",
    "print(nixl_agent1.get_plugin_params(\"UCX\"))"
   ]
  },
  {
   "cell_type": "code",
   "execution_count": 5,
   "id": "deac0750",
   "metadata": {},
   "outputs": [
    {
     "name": "stdout",
     "output_type": "stream",
     "text": [
      "\n",
      "Loaded backend parameters\n",
      "['DRAM_SEG', 'VRAM_SEG']\n",
      "{}\n",
      "\n"
     ]
    }
   ],
   "source": [
    "print(\"\\nLoaded backend parameters\")\n",
    "print(nixl_agent1.get_backend_mem_types(\"UCX\"))\n",
    "print(nixl_agent1.get_backend_params(\"UCX\"))\n",
    "print()"
   ]
  },
  {
   "cell_type": "code",
   "execution_count": 6,
   "id": "ecea1181",
   "metadata": {},
   "outputs": [],
   "source": [
    "addr1 = nixl_utils.malloc_passthru(buf_size * 2)\n",
    "addr2 = addr1 + buf_size"
   ]
  },
  {
   "cell_type": "code",
   "execution_count": 7,
   "id": "f1ac3704",
   "metadata": {},
   "outputs": [],
   "source": [
    "agent1_addrs = [(addr1, buf_size, 0), (addr2, buf_size, 0)]\n",
    "agent1_strings = [(addr1, buf_size, 0, \"a\"), (addr2, buf_size, 0, \"b\")]\n",
    "\n",
    "agent1_reg_descs = nixl_agent1.get_reg_descs(agent1_strings, \"cuda\", is_sorted=True)\n",
    "agent1_xfer_descs = nixl_agent1.get_xfer_descs(agent1_addrs, \"cuda\", is_sorted=True)"
   ]
  },
  {
   "cell_type": "code",
   "execution_count": 8,
   "id": "d50b8e86",
   "metadata": {},
   "outputs": [
    {
     "name": "stdout",
     "output_type": "stream",
     "text": [
      "<nixl._bindings.nixlRegDList object at 0x7f7ca612ffb0> <nixl._bindings.nixlRegDList object at 0x7f7ca5f47370>\n"
     ]
    }
   ],
   "source": [
    "# Prefer numpy arrays for performance\n",
    "agent1_addrs_np = np.array(agent1_addrs)\n",
    "agent1_xfer_descs_np = nixl_agent1.get_xfer_descs(\n",
    "    agent1_addrs_np, \"cuda\", is_sorted=True\n",
    ")\n",
    "agent1_reg_descs_np = nixl_agent1.get_reg_descs(\n",
    "    agent1_addrs_np, \"cuda\", is_sorted=True\n",
    ")\n",
    "\n",
    "assert agent1_xfer_descs == agent1_xfer_descs_np\n",
    "assert agent1_reg_descs == agent1_reg_descs_np\n",
    "print(agent1_reg_descs, agent1_reg_descs_np)"
   ]
  },
  {
   "cell_type": "code",
   "execution_count": 9,
   "id": "4c98144b",
   "metadata": {},
   "outputs": [
    {
     "name": "stderr",
     "output_type": "stream",
     "text": [
      "W0804 22:21:50.237804  768936 ucx_utils.cpp:559] memory is detected as host, check that UCX is configured with CUDA support\n",
      "W0804 22:21:50.238051  768936 ucx_utils.cpp:559] memory is detected as host, check that UCX is configured with CUDA support\n"
     ]
    }
   ],
   "source": [
    "# Just for tensor test\n",
    "tensors = [torch.zeros(10, dtype=torch.float32) for _ in range(2)]\n",
    "agent1_tensor_reg_descs = nixl_agent1.get_reg_descs(tensors)\n",
    "agent1_tensor_xfer_descs = nixl_agent1.get_xfer_descs(tensors)\n",
    "\n",
    "assert nixl_agent1.register_memory(agent1_reg_descs) is not None"
   ]
  },
  {
   "cell_type": "code",
   "execution_count": null,
   "id": "65545715",
   "metadata": {},
   "outputs": [
    {
     "name": "stdout",
     "output_type": "stream",
     "text": [
      "Backend UCX was instantiated\n",
      "Initialized NIXL agent: initiator\n"
     ]
    },
    {
     "name": "stderr",
     "output_type": "stream",
     "text": [
      "W0804 22:21:51.603873  768936 ucx_utils.cpp:559] memory is detected as host, check that UCX is configured with CUDA support\n",
      "W0804 22:21:51.604062  768936 ucx_utils.cpp:559] memory is detected as host, check that UCX is configured with CUDA support\n"
     ]
    }
   ],
   "source": [
    "# Example using default configs, which is UCX backend only\n",
    "nixl_agent2 = nixl_agent(\"initiator\", None)\n",
    "addr3 = nixl_utils.malloc_passthru(buf_size * 2)\n",
    "addr4 = addr3 + buf_size\n",
    "\n",
    "agent2_addrs = [(addr3, buf_size, 1), (addr4, buf_size, 1)]\n",
    "agent2_strings = [(addr3, buf_size, 1, \"a\"), (addr4, buf_size, 1, \"b\")]\n",
    "\n",
    "agent2_reg_descs = nixl_agent2.get_reg_descs(agent2_strings, \"cuda\", is_sorted=True)\n",
    "agent2_xfer_descs = nixl_agent2.get_xfer_descs(agent2_addrs, \"cuda\", is_sorted=True)\n",
    "\n",
    "agent2_descs = nixl_agent2.register_memory(agent2_reg_descs, is_sorted=True)\n",
    "assert agent2_descs is not None"
   ]
  },
  {
   "cell_type": "code",
   "execution_count": 11,
   "id": "46cbaf5a",
   "metadata": {},
   "outputs": [
    {
     "name": "stdout",
     "output_type": "stream",
     "text": [
      "Loaded name from metadata: b'target'\n"
     ]
    }
   ],
   "source": [
    "# Exchange metadata\n",
    "meta = nixl_agent1.get_agent_metadata()\n",
    "remote_name = nixl_agent2.add_remote_agent(meta)\n",
    "print(\"Loaded name from metadata:\", remote_name, flush=True)\n",
    "\n",
    "serdes = nixl_agent1.get_serialized_descs(agent1_reg_descs)\n",
    "src_descs_recvd = nixl_agent2.deserialize_descs(serdes)\n",
    "assert src_descs_recvd == agent1_reg_descs"
   ]
  },
  {
   "cell_type": "code",
   "execution_count": 12,
   "id": "0f6cc8e2",
   "metadata": {},
   "outputs": [],
   "source": [
    "# initialize transfer mode\n",
    "xfer_handle_1 = nixl_agent2.initialize_xfer(\n",
    "    \"READ\", agent2_xfer_descs, agent1_xfer_descs, remote_name, b\"UUID1\"\n",
    ")\n",
    "if not xfer_handle_1:\n",
    "    print(\"Creating transfer failed.\")\n",
    "    exit()"
   ]
  },
  {
   "cell_type": "code",
   "execution_count": 13,
   "id": "91337dce",
   "metadata": {},
   "outputs": [
    {
     "name": "stdout",
     "output_type": "stream",
     "text": [
      "Initiator done\n",
      "Target done\n",
      "Initiator done\n",
      "Target done\n"
     ]
    }
   ],
   "source": [
    "# test multiple postings\n",
    "for _ in range(2):\n",
    "    state = nixl_agent2.transfer(xfer_handle_1)\n",
    "    assert state != \"ERR\"\n",
    "\n",
    "    target_done = False\n",
    "    init_done = False\n",
    "\n",
    "    while (not init_done) or (not target_done):\n",
    "        if not init_done:\n",
    "            state = nixl_agent2.check_xfer_state(xfer_handle_1)\n",
    "            if state == \"ERR\":\n",
    "                print(\"Transfer got to Error state.\")\n",
    "                exit()\n",
    "            elif state == \"DONE\":\n",
    "                init_done = True\n",
    "                print(\"Initiator done\")\n",
    "\n",
    "        if not target_done:\n",
    "            if nixl_agent1.check_remote_xfer_done(\"initiator\", b\"UUID1\"):\n",
    "                target_done = True\n",
    "                print(\"Target done\")"
   ]
  },
  {
   "cell_type": "code",
   "execution_count": 14,
   "id": "c78d2ba6",
   "metadata": {},
   "outputs": [
    {
     "ename": "nixlNotFoundError",
     "evalue": "NIXL_ERR_NOT_FOUND",
     "output_type": "error",
     "traceback": [
      "\u001b[31m---------------------------------------------------------------------------\u001b[39m",
      "\u001b[31mnixlNotFoundError\u001b[39m                         Traceback (most recent call last)",
      "\u001b[36mCell\u001b[39m\u001b[36m \u001b[39m\u001b[32mIn[14]\u001b[39m\u001b[32m, line 2\u001b[39m\n\u001b[32m      1\u001b[39m \u001b[38;5;66;03m# prep transfer mode\u001b[39;00m\n\u001b[32m----> \u001b[39m\u001b[32m2\u001b[39m local_prep_handle = \u001b[43mnixl_agent2\u001b[49m\u001b[43m.\u001b[49m\u001b[43mprep_xfer_dlist\u001b[49m\u001b[43m(\u001b[49m\n\u001b[32m      3\u001b[39m \u001b[43m    \u001b[49m\u001b[33;43m\"\u001b[39;49m\u001b[33;43mNIXL_INIT_AGENT\u001b[39;49m\u001b[33;43m\"\u001b[39;49m\u001b[43m,\u001b[49m\u001b[43m \u001b[49m\u001b[43m[\u001b[49m\u001b[43m(\u001b[49m\u001b[43maddr3\u001b[49m\u001b[43m,\u001b[49m\u001b[43m \u001b[49m\u001b[43mbuf_size\u001b[49m\u001b[43m,\u001b[49m\u001b[43m \u001b[49m\u001b[32;43m0\u001b[39;49m\u001b[43m)\u001b[49m\u001b[43m,\u001b[49m\u001b[43m \u001b[49m\u001b[43m(\u001b[49m\u001b[43maddr4\u001b[49m\u001b[43m,\u001b[49m\u001b[43m \u001b[49m\u001b[43mbuf_size\u001b[49m\u001b[43m,\u001b[49m\u001b[43m \u001b[49m\u001b[32;43m0\u001b[39;49m\u001b[43m)\u001b[49m\u001b[43m]\u001b[49m\u001b[43m,\u001b[49m\u001b[43m \u001b[49m\u001b[33;43m\"\u001b[39;49m\u001b[33;43mDRAM\u001b[39;49m\u001b[33;43m\"\u001b[39;49m\u001b[43m,\u001b[49m\u001b[43m \u001b[49m\u001b[38;5;28;43;01mTrue\u001b[39;49;00m\n\u001b[32m      4\u001b[39m \u001b[43m)\u001b[49m\n\u001b[32m      5\u001b[39m remote_prep_handle = nixl_agent2.prep_xfer_dlist(\n\u001b[32m      6\u001b[39m     remote_name, agent1_xfer_descs, \u001b[33m\"\u001b[39m\u001b[33mDRAM\u001b[39m\u001b[33m\"\u001b[39m\n\u001b[32m      7\u001b[39m )\n\u001b[32m      9\u001b[39m \u001b[38;5;28;01massert\u001b[39;00m local_prep_handle != \u001b[32m0\u001b[39m\n",
      "\u001b[36mFile \u001b[39m\u001b[32m~/miniconda3/envs/nixl/lib/python3.12/site-packages/nixl/_api.py:343\u001b[39m, in \u001b[36mnixl_agent.prep_xfer_dlist\u001b[39m\u001b[34m(self, agent_name, xfer_list, mem_type, is_sorted, backends)\u001b[39m\n\u001b[32m    340\u001b[39m \u001b[38;5;28;01mfor\u001b[39;00m backend_string \u001b[38;5;129;01min\u001b[39;00m backends:\n\u001b[32m    341\u001b[39m     handle_list.append(\u001b[38;5;28mself\u001b[39m.backends[backend_string])\n\u001b[32m--> \u001b[39m\u001b[32m343\u001b[39m handle = \u001b[38;5;28;43mself\u001b[39;49m\u001b[43m.\u001b[49m\u001b[43magent\u001b[49m\u001b[43m.\u001b[49m\u001b[43mprepXferDlist\u001b[49m\u001b[43m(\u001b[49m\u001b[43magent_name\u001b[49m\u001b[43m,\u001b[49m\u001b[43m \u001b[49m\u001b[43mdescs\u001b[49m\u001b[43m,\u001b[49m\u001b[43m \u001b[49m\u001b[43mhandle_list\u001b[49m\u001b[43m)\u001b[49m\n\u001b[32m    345\u001b[39m \u001b[38;5;28;01mreturn\u001b[39;00m handle\n",
      "\u001b[31mnixlNotFoundError\u001b[39m: NIXL_ERR_NOT_FOUND"
     ]
    }
   ],
   "source": [
    "# prep transfer mode\n",
    "local_prep_handle = nixl_agent2.prep_xfer_dlist(\n",
    "    \"NIXL_INIT_AGENT\", [(addr3, buf_size, 0), (addr4, buf_size, 0)], \"DRAM\", True\n",
    ")\n",
    "remote_prep_handle = nixl_agent2.prep_xfer_dlist(\n",
    "    remote_name, agent1_xfer_descs, \"DRAM\"\n",
    ")\n",
    "\n",
    "assert local_prep_handle != 0\n",
    "assert remote_prep_handle != 0"
   ]
  },
  {
   "cell_type": "code",
   "execution_count": 15,
   "id": "559bbb0c",
   "metadata": {},
   "outputs": [
    {
     "name": "stdout",
     "output_type": "stream",
     "text": [
      "sent notif \n",
      "b'DESCS: \\x80\\x04\\x95\\xc0\\x00\\x00\\x00\\x00\\x00\\x00\\x00\\x8c\\x0enixl._bindings\\x94\\x8c\\x0cnixlRegDList\\x94\\x93\\x94)\\x81\\x94C\\x96nixlSerDes|nixlDList\\n\\x00\\x00\\x00\\x00\\x00\\x00\\x00nixlSDList|t\\x04\\x00\\x00\\x00\\x00\\x00\\x00\\x00\\x01\\x00\\x00\\x00|s\\x01\\x00\\x00\\x00\\x00\\x00\\x00\\x00\\x01|n\\x08\\x00\\x00\\x00\\x00\\x00\\x00\\x00\\x02\\x00\\x00\\x00\\x00\\x00\\x00\\x00|\\x19\\x00\\x00\\x00\\x00\\x00\\x00\\x00\\xa0U\\xa41\\x00\\x00\\x00\\x00\\x00\\xe8\\x03\\x00\\x00\\x00\\x00\\x00\\x00\\x00\\x00\\x00\\x00\\x00\\x00\\x00a|\\x19\\x00\\x00\\x00\\x00\\x00\\x00\\x00\\xa0=\\xa81\\x00\\x00\\x00\\x00\\x00\\xe8\\x03\\x00\\x00\\x00\\x00\\x00\\x00\\x00\\x00\\x00\\x00\\x00\\x00\\x00b|\\x94b.'\n",
      "received message from initiator\n",
      "notif test complete, doing transfer 2\n",
      "\n"
     ]
    }
   ],
   "source": [
    "# test send_notif\n",
    "\n",
    "test_notif = str.encode(\"DESCS: \") + serdes\n",
    "nixl_agent2.send_notif(remote_name, test_notif)\n",
    "\n",
    "print(\"sent notif \")\n",
    "print(test_notif)\n",
    "\n",
    "notif_recv = False\n",
    "\n",
    "while not notif_recv:\n",
    "    notif_map = nixl_agent1.get_new_notifs()\n",
    "    if \"initiator\" in notif_map:\n",
    "        print(\"received message from initiator\")\n",
    "        for msg in notif_map[\"initiator\"]:\n",
    "            if msg == test_notif:\n",
    "                notif_recv = True\n",
    "\n",
    "print(\"notif test complete, doing transfer 2\\n\")"
   ]
  },
  {
   "cell_type": "code",
   "execution_count": 16,
   "id": "2b5d8696",
   "metadata": {},
   "outputs": [
    {
     "ename": "NameError",
     "evalue": "name 'local_prep_handle' is not defined",
     "output_type": "error",
     "traceback": [
      "\u001b[31m---------------------------------------------------------------------------\u001b[39m",
      "\u001b[31mNameError\u001b[39m                                 Traceback (most recent call last)",
      "\u001b[36mCell\u001b[39m\u001b[36m \u001b[39m\u001b[32mIn[16]\u001b[39m\u001b[32m, line 2\u001b[39m\n\u001b[32m      1\u001b[39m xfer_handle_2 = nixl_agent2.make_prepped_xfer(\n\u001b[32m----> \u001b[39m\u001b[32m2\u001b[39m     \u001b[33m\"\u001b[39m\u001b[33mWRITE\u001b[39m\u001b[33m\"\u001b[39m, \u001b[43mlocal_prep_handle\u001b[49m, [\u001b[32m0\u001b[39m, \u001b[32m1\u001b[39m], remote_prep_handle, [\u001b[32m1\u001b[39m, \u001b[32m0\u001b[39m], \u001b[33mb\u001b[39m\u001b[33m\"\u001b[39m\u001b[33mUUID2\u001b[39m\u001b[33m\"\u001b[39m\n\u001b[32m      3\u001b[39m )\n\u001b[32m      4\u001b[39m \u001b[38;5;28;01mif\u001b[39;00m \u001b[38;5;129;01mnot\u001b[39;00m local_prep_handle \u001b[38;5;129;01mor\u001b[39;00m \u001b[38;5;129;01mnot\u001b[39;00m remote_prep_handle:\n\u001b[32m      5\u001b[39m     \u001b[38;5;28mprint\u001b[39m(\u001b[33m\"\u001b[39m\u001b[33mPreparing transfer side handles failed.\u001b[39m\u001b[33m\"\u001b[39m)\n",
      "\u001b[31mNameError\u001b[39m: name 'local_prep_handle' is not defined"
     ]
    }
   ],
   "source": [
    "xfer_handle_2 = nixl_agent2.make_prepped_xfer(\n",
    "    \"WRITE\", local_prep_handle, [0, 1], remote_prep_handle, [1, 0], b\"UUID2\"\n",
    ")\n",
    "if not local_prep_handle or not remote_prep_handle:\n",
    "    print(\"Preparing transfer side handles failed.\")\n",
    "    exit()\n",
    "\n",
    "if not xfer_handle_2:\n",
    "    print(\"Make prepped transfer failed.\")\n",
    "    exit()\n",
    "\n",
    "state = nixl_agent2.transfer(xfer_handle_2)\n",
    "assert state != \"ERR\"\n",
    "\n",
    "target_done = False\n",
    "init_done = False\n",
    "\n",
    "print(\"Transfer 2 started\")"
   ]
  },
  {
   "cell_type": "code",
   "execution_count": 17,
   "id": "c69f491f",
   "metadata": {},
   "outputs": [
    {
     "ename": "NameError",
     "evalue": "name 'xfer_handle_2' is not defined",
     "output_type": "error",
     "traceback": [
      "\u001b[31m---------------------------------------------------------------------------\u001b[39m",
      "\u001b[31mNameError\u001b[39m                                 Traceback (most recent call last)",
      "\u001b[36mCell\u001b[39m\u001b[36m \u001b[39m\u001b[32mIn[17]\u001b[39m\u001b[32m, line 17\u001b[39m\n\u001b[32m     14\u001b[39m             \u001b[38;5;28mprint\u001b[39m(\u001b[33m\"\u001b[39m\u001b[33mTarget done\u001b[39m\u001b[33m\"\u001b[39m)\n\u001b[32m     16\u001b[39m nixl_agent2.release_xfer_handle(xfer_handle_1)\n\u001b[32m---> \u001b[39m\u001b[32m17\u001b[39m nixl_agent2.release_xfer_handle(\u001b[43mxfer_handle_2\u001b[49m)\n\u001b[32m     18\u001b[39m nixl_agent2.release_dlist_handle(local_prep_handle)\n\u001b[32m     19\u001b[39m nixl_agent2.release_dlist_handle(remote_prep_handle)\n",
      "\u001b[31mNameError\u001b[39m: name 'xfer_handle_2' is not defined"
     ]
    }
   ],
   "source": [
    "while (not init_done) or (not target_done):\n",
    "    if not init_done:\n",
    "        state = nixl_agent2.check_xfer_state(xfer_handle_2)\n",
    "        if state == \"ERR\":\n",
    "            print(\"Transfer got to Error state.\")\n",
    "            exit()\n",
    "        elif state == \"DONE\":\n",
    "            init_done = True\n",
    "            print(\"Initiator done\")\n",
    "\n",
    "    if not target_done:\n",
    "        if nixl_agent1.check_remote_xfer_done(\"initiator\", b\"UUID2\"):\n",
    "            target_done = True\n",
    "            print(\"Target done\")\n",
    "\n",
    "nixl_agent2.release_xfer_handle(xfer_handle_1)\n",
    "nixl_agent2.release_xfer_handle(xfer_handle_2)\n",
    "nixl_agent2.release_dlist_handle(local_prep_handle)\n",
    "nixl_agent2.release_dlist_handle(remote_prep_handle)\n",
    "nixl_agent2.remove_remote_agent(\"target\")\n",
    "nixl_agent1.deregister_memory(agent1_reg_descs)\n",
    "nixl_agent2.deregister_memory(agent2_reg_descs)\n",
    "\n",
    "nixl_utils.free_passthru(addr1)\n",
    "nixl_utils.free_passthru(addr3)\n",
    "\n",
    "print(\"Test Complete.\")"
   ]
  },
  {
   "cell_type": "code",
   "execution_count": null,
   "id": "2aec0d4a",
   "metadata": {},
   "outputs": [],
   "source": []
  }
 ],
 "metadata": {
  "kernelspec": {
   "display_name": "nixl",
   "language": "python",
   "name": "python3"
  },
  "language_info": {
   "codemirror_mode": {
    "name": "ipython",
    "version": 3
   },
   "file_extension": ".py",
   "mimetype": "text/x-python",
   "name": "python",
   "nbconvert_exporter": "python",
   "pygments_lexer": "ipython3",
   "version": "3.12.11"
  }
 },
 "nbformat": 4,
 "nbformat_minor": 5
}
