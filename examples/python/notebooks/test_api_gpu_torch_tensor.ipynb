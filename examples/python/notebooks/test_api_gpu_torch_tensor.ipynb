{
 "cells": [
  {
   "cell_type": "code",
   "execution_count": 1,
   "id": "aa482594",
   "metadata": {},
   "outputs": [],
   "source": [
    "import os\n",
    "\n",
    "import numpy as np\n",
    "import torch\n",
    "\n",
    "import nixl._utils as nixl_utils\n",
    "from nixl._api import nixl_agent, nixl_agent_config"
   ]
  },
  {
   "cell_type": "code",
   "execution_count": 2,
   "id": "ff457b41",
   "metadata": {},
   "outputs": [
    {
     "name": "stdout",
     "output_type": "stream",
     "text": [
      "Using NIXL Plugins from:\n",
      "/home/jiaming/miniconda3/envs/nixl/lib/python3.12/site-packages/.nixl.mesonpy.libs/plugins/\n",
      "Backend UCX was instantiated\n",
      "Initialized NIXL agent: target\n",
      "Backend UCX was instantiated\n",
      "Initialized NIXL agent: initiator\n"
     ]
    }
   ],
   "source": [
    "buf_size = 256000\n",
    "# Allocate memory and register with NIXL\n",
    "\n",
    "print(\"Using NIXL Plugins from:\")\n",
    "print(os.environ[\"NIXL_PLUGIN_DIR\"])\n",
    "\n",
    "# Example using nixl_agent_config\n",
    "agent_config = nixl_agent_config(backends=[\"UCX\"])\n",
    "dst_nixl_agent = nixl_agent(\"target\", agent_config)  # agent 1\n",
    "src_nixl_agent = nixl_agent(\"initiator\", None)"
   ]
  },
  {
   "cell_type": "code",
   "execution_count": 3,
   "id": "26c85dc4",
   "metadata": {},
   "outputs": [
    {
     "name": "stdout",
     "output_type": "stream",
     "text": [
      "src_tensor:  tensor([[1., 1., 1.,  ..., 1., 1., 1.],\n",
      "        [1., 1., 1.,  ..., 1., 1., 1.],\n",
      "        [1., 1., 1.,  ..., 1., 1., 1.],\n",
      "        ...,\n",
      "        [1., 1., 1.,  ..., 1., 1., 1.],\n",
      "        [1., 1., 1.,  ..., 1., 1., 1.],\n",
      "        [1., 1., 1.,  ..., 1., 1., 1.]], device='cuda:0')\n",
      "dst_tensor:  tensor([[5., 5., 5.,  ..., 5., 5., 5.],\n",
      "        [5., 5., 5.,  ..., 5., 5., 5.],\n",
      "        [5., 5., 5.,  ..., 5., 5., 5.],\n",
      "        ...,\n",
      "        [5., 5., 5.,  ..., 5., 5., 5.],\n",
      "        [5., 5., 5.,  ..., 5., 5., 5.],\n",
      "        [5., 5., 5.,  ..., 5., 5., 5.]], device='cuda:1')\n"
     ]
    }
   ],
   "source": [
    "# register memory\n",
    "import torch\n",
    "from torch import tensor\n",
    "\n",
    "# size = 256*256 tensor on cuda:0\n",
    "src_tensor = torch.ones(256, 256, device=\"cuda:0\") \n",
    "\n",
    "# size = 256*256 tensor on cuda:1\n",
    "dst_tensor = torch.zeros(256, 256, device=\"cuda:1\") + 5\n",
    "\n",
    "print(\"src_tensor: \", src_tensor)\n",
    "print(\"dst_tensor: \", dst_tensor)\n",
    "\n",
    "src_nixl_agent.register_memory(src_tensor, \"VRAM\", is_sorted=True)\n",
    "dst_nixl_agent.register_memory(dst_tensor, \"VRAM\", is_sorted=True) # agent 1\n",
    "\n",
    "src_xfer_descs = src_nixl_agent.get_xfer_descs(src_tensor, \"VRAM\", is_sorted=True)\n",
    "dst_xfer_descs = dst_nixl_agent.get_xfer_descs(dst_tensor, \"VRAM\", is_sorted=True) # agent 1"
   ]
  },
  {
   "cell_type": "code",
   "execution_count": 4,
   "id": "961af885",
   "metadata": {},
   "outputs": [
    {
     "name": "stdout",
     "output_type": "stream",
     "text": [
      "Loaded name from metadata: b'target'\n"
     ]
    }
   ],
   "source": [
    "# Exchange metadata\n",
    "meta = dst_nixl_agent.get_agent_metadata()\n",
    "remote_name = src_nixl_agent.add_remote_agent(meta)\n",
    "print(\"Loaded name from metadata:\", remote_name, flush=True) "
   ]
  },
  {
   "cell_type": "code",
   "execution_count": 5,
   "id": "1c7219c6",
   "metadata": {},
   "outputs": [
    {
     "name": "stdout",
     "output_type": "stream",
     "text": [
      "Initiator done\n",
      "Target done\n"
     ]
    }
   ],
   "source": [
    "# transfer data\n",
    "notif = b\"UUID1\"\n",
    "xfer_handle = src_nixl_agent.initialize_xfer(\n",
    "    \"READ\",\n",
    "    src_xfer_descs,\n",
    "    dst_xfer_descs,\n",
    "    remote_name,\n",
    "    notif,\n",
    ")\n",
    "if not xfer_handle:\n",
    "    print(\"Creating transfer failed.\")\n",
    "    exit()\n",
    "\n",
    "state = src_nixl_agent.transfer(xfer_handle)\n",
    "assert state != \"ERR\"\n",
    "\n",
    "target_done = False\n",
    "init_done = False\n",
    "\n",
    "while (not init_done) or (not target_done):\n",
    "    if not init_done:\n",
    "        state = src_nixl_agent.check_xfer_state(xfer_handle)\n",
    "        if state == \"ERR\":\n",
    "            print(\"Transfer got to Error state.\")\n",
    "            exit()\n",
    "        elif state == \"DONE\":\n",
    "            init_done = True\n",
    "            print(\"Initiator done\")\n",
    "\n",
    "    if not target_done:\n",
    "        if dst_nixl_agent.check_remote_xfer_done(\"initiator\", notif):\n",
    "            target_done = True\n",
    "            print(\"Target done\")"
   ]
  },
  {
   "cell_type": "code",
   "execution_count": 6,
   "id": "53d61055",
   "metadata": {},
   "outputs": [
    {
     "name": "stdout",
     "output_type": "stream",
     "text": [
      "src_tensor:  tensor([[5., 5., 5.,  ..., 5., 5., 5.],\n",
      "        [5., 5., 5.,  ..., 5., 5., 5.],\n",
      "        [5., 5., 5.,  ..., 5., 5., 5.],\n",
      "        ...,\n",
      "        [5., 5., 5.,  ..., 5., 5., 5.],\n",
      "        [5., 5., 5.,  ..., 5., 5., 5.],\n",
      "        [5., 5., 5.,  ..., 5., 5., 5.]], device='cuda:0')\n",
      "dst_tensor:  tensor([[5., 5., 5.,  ..., 5., 5., 5.],\n",
      "        [5., 5., 5.,  ..., 5., 5., 5.],\n",
      "        [5., 5., 5.,  ..., 5., 5., 5.],\n",
      "        ...,\n",
      "        [5., 5., 5.,  ..., 5., 5., 5.],\n",
      "        [5., 5., 5.,  ..., 5., 5., 5.],\n",
      "        [5., 5., 5.,  ..., 5., 5., 5.]], device='cuda:1')\n"
     ]
    }
   ],
   "source": [
    "print(\"src_tensor: \", src_tensor)\n",
    "print(\"dst_tensor: \", dst_tensor)"
   ]
  },
  {
   "cell_type": "code",
   "execution_count": null,
   "id": "a9049f59",
   "metadata": {},
   "outputs": [],
   "source": []
  }
 ],
 "metadata": {
  "kernelspec": {
   "display_name": "nixl",
   "language": "python",
   "name": "python3"
  },
  "language_info": {
   "codemirror_mode": {
    "name": "ipython",
    "version": 3
   },
   "file_extension": ".py",
   "mimetype": "text/x-python",
   "name": "python",
   "nbconvert_exporter": "python",
   "pygments_lexer": "ipython3",
   "version": "3.12.11"
  }
 },
 "nbformat": 4,
 "nbformat_minor": 5
}
